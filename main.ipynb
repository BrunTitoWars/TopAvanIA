{
 "cells": [
  {
   "cell_type": "markdown",
   "id": "db4ca3d0688a9de0",
   "metadata": {},
   "source": [
    "# Importing database"
   ]
  },
  {
   "cell_type": "code",
   "id": "f7b68f77f062cb34",
   "metadata": {
    "ExecuteTime": {
     "end_time": "2025-05-21T20:19:14.870546Z",
     "start_time": "2025-05-21T20:19:14.133183Z"
    }
   },
   "source": [
    "import pandas as pd\n",
    "from rich.jupyter import display"
   ],
   "outputs": [],
   "execution_count": 1
  },
  {
   "cell_type": "code",
   "id": "7fd1360604b3e5d2",
   "metadata": {
    "ExecuteTime": {
     "end_time": "2025-05-21T20:19:14.927452Z",
     "start_time": "2025-05-21T20:19:14.914281Z"
    }
   },
   "source": [
    "database = pd.read_csv('data/simulated_database.csv')\n",
    "print(f'{database.shape[0]} lines x {database.shape[1]} columns of simulated data')"
   ],
   "outputs": [
    {
     "name": "stdout",
     "output_type": "stream",
     "text": [
      "459 lines x 3 columns of simulated data\n"
     ]
    }
   ],
   "execution_count": 2
  },
  {
   "cell_type": "code",
   "id": "511946ade34f61d2",
   "metadata": {
    "ExecuteTime": {
     "end_time": "2025-05-21T20:19:14.959403Z",
     "start_time": "2025-05-21T20:19:14.948876Z"
    }
   },
   "source": [
    "database.head()"
   ],
   "outputs": [
    {
     "data": {
      "text/plain": [
       "   use_of_ai  ai_competence  digital_resource\n",
       "0       4.40           4.35              4.08\n",
       "1       4.19           3.35              3.62\n",
       "2       4.63           3.14              3.75\n",
       "3       4.43           4.36              3.65\n",
       "4       4.11           4.89              3.00"
      ],
      "text/html": [
       "<div>\n",
       "<style scoped>\n",
       "    .dataframe tbody tr th:only-of-type {\n",
       "        vertical-align: middle;\n",
       "    }\n",
       "\n",
       "    .dataframe tbody tr th {\n",
       "        vertical-align: top;\n",
       "    }\n",
       "\n",
       "    .dataframe thead th {\n",
       "        text-align: right;\n",
       "    }\n",
       "</style>\n",
       "<table border=\"1\" class=\"dataframe\">\n",
       "  <thead>\n",
       "    <tr style=\"text-align: right;\">\n",
       "      <th></th>\n",
       "      <th>use_of_ai</th>\n",
       "      <th>ai_competence</th>\n",
       "      <th>digital_resource</th>\n",
       "    </tr>\n",
       "  </thead>\n",
       "  <tbody>\n",
       "    <tr>\n",
       "      <th>0</th>\n",
       "      <td>4.40</td>\n",
       "      <td>4.35</td>\n",
       "      <td>4.08</td>\n",
       "    </tr>\n",
       "    <tr>\n",
       "      <th>1</th>\n",
       "      <td>4.19</td>\n",
       "      <td>3.35</td>\n",
       "      <td>3.62</td>\n",
       "    </tr>\n",
       "    <tr>\n",
       "      <th>2</th>\n",
       "      <td>4.63</td>\n",
       "      <td>3.14</td>\n",
       "      <td>3.75</td>\n",
       "    </tr>\n",
       "    <tr>\n",
       "      <th>3</th>\n",
       "      <td>4.43</td>\n",
       "      <td>4.36</td>\n",
       "      <td>3.65</td>\n",
       "    </tr>\n",
       "    <tr>\n",
       "      <th>4</th>\n",
       "      <td>4.11</td>\n",
       "      <td>4.89</td>\n",
       "      <td>3.00</td>\n",
       "    </tr>\n",
       "  </tbody>\n",
       "</table>\n",
       "</div>"
      ]
     },
     "execution_count": 3,
     "metadata": {},
     "output_type": "execute_result"
    }
   ],
   "execution_count": 3
  },
  {
   "cell_type": "markdown",
   "id": "16592fe6549aa9df",
   "metadata": {},
   "source": [
    "# Results analysis"
   ]
  },
  {
   "cell_type": "markdown",
   "id": "22c139fd2231a8c7",
   "metadata": {},
   "source": [
    "### Paper's table 2: Results of the descriptive analysis"
   ]
  },
  {
   "cell_type": "code",
   "id": "5d6ba39e8f9e8b35",
   "metadata": {
    "ExecuteTime": {
     "end_time": "2025-05-21T20:19:15.841995Z",
     "start_time": "2025-05-21T20:19:14.997579Z"
    }
   },
   "source": [
    "from scipy.stats import pearsonr\n",
    "from IPython.display import display\n",
    "\n",
    "variable_labels = {\n",
    "    \"use_of_ai\": \"Use of AI\",\n",
    "    \"ai_competence\": \"AI Competence\",\n",
    "    \"digital_resource\": \"Digital Resources\"\n",
    "}\n",
    "\n",
    "variables = list(variable_labels.keys())\n",
    "\n",
    "stats = {\n",
    "    \"Variable\": [variable_labels[var] for var in variables],\n",
    "    \"Mean\": [database[var].mean() for var in variables],\n",
    "    \"Standard Deviation\": [database[var].std() for var in variables]\n",
    "}\n",
    "\n",
    "stats_table = pd.DataFrame(stats)\n",
    "\n",
    "display(stats_table)"
   ],
   "outputs": [
    {
     "data": {
      "text/plain": [
       "            Variable      Mean  Standard Deviation\n",
       "0          Use of AI  4.567298            0.410090\n",
       "1      AI Competence  4.491111            0.635412\n",
       "2  Digital Resources  3.970196            0.417030"
      ],
      "text/html": [
       "<div>\n",
       "<style scoped>\n",
       "    .dataframe tbody tr th:only-of-type {\n",
       "        vertical-align: middle;\n",
       "    }\n",
       "\n",
       "    .dataframe tbody tr th {\n",
       "        vertical-align: top;\n",
       "    }\n",
       "\n",
       "    .dataframe thead th {\n",
       "        text-align: right;\n",
       "    }\n",
       "</style>\n",
       "<table border=\"1\" class=\"dataframe\">\n",
       "  <thead>\n",
       "    <tr style=\"text-align: right;\">\n",
       "      <th></th>\n",
       "      <th>Variable</th>\n",
       "      <th>Mean</th>\n",
       "      <th>Standard Deviation</th>\n",
       "    </tr>\n",
       "  </thead>\n",
       "  <tbody>\n",
       "    <tr>\n",
       "      <th>0</th>\n",
       "      <td>Use of AI</td>\n",
       "      <td>4.567298</td>\n",
       "      <td>0.410090</td>\n",
       "    </tr>\n",
       "    <tr>\n",
       "      <th>1</th>\n",
       "      <td>AI Competence</td>\n",
       "      <td>4.491111</td>\n",
       "      <td>0.635412</td>\n",
       "    </tr>\n",
       "    <tr>\n",
       "      <th>2</th>\n",
       "      <td>Digital Resources</td>\n",
       "      <td>3.970196</td>\n",
       "      <td>0.417030</td>\n",
       "    </tr>\n",
       "  </tbody>\n",
       "</table>\n",
       "</div>"
      ]
     },
     "metadata": {},
     "output_type": "display_data"
    }
   ],
   "execution_count": 4
  },
  {
   "cell_type": "markdown",
   "id": "2418f6398cb73858",
   "metadata": {},
   "source": [
    "### Paper's table 3: Results of the descriptive correlation analysis"
   ]
  },
  {
   "cell_type": "code",
   "id": "a3dc00719fed78ea",
   "metadata": {
    "ExecuteTime": {
     "end_time": "2025-05-21T20:19:15.879484Z",
     "start_time": "2025-05-21T20:19:15.870410Z"
    }
   },
   "source": [
    "correlation_data = {variable_labels[var]: [] for var in variables}\n",
    "\n",
    "for var1 in variables:\n",
    "    for var2 in variables:\n",
    "        if var1 == var2:\n",
    "            correlation_data[variable_labels[var2]].append(\"1\")\n",
    "        else:\n",
    "            r, p = pearsonr(database[var1], database[var2])\n",
    "            formatted = f\"{r:.3f}\" + (\"**\" if p < 0.01 else \"\")\n",
    "            correlation_data[variable_labels[var2]].append(formatted)\n",
    "\n",
    "correlation_table = pd.DataFrame(correlation_data, index=[variable_labels[v] for v in variables])\n",
    "\n",
    "display(correlation_table)"
   ],
   "outputs": [
    {
     "data": {
      "text/plain": [
       "                  Use of AI AI Competence Digital Resources\n",
       "Use of AI                 1       0.362**           0.338**\n",
       "AI Competence       0.362**             1           0.232**\n",
       "Digital Resources   0.338**       0.232**                 1"
      ],
      "text/html": [
       "<div>\n",
       "<style scoped>\n",
       "    .dataframe tbody tr th:only-of-type {\n",
       "        vertical-align: middle;\n",
       "    }\n",
       "\n",
       "    .dataframe tbody tr th {\n",
       "        vertical-align: top;\n",
       "    }\n",
       "\n",
       "    .dataframe thead th {\n",
       "        text-align: right;\n",
       "    }\n",
       "</style>\n",
       "<table border=\"1\" class=\"dataframe\">\n",
       "  <thead>\n",
       "    <tr style=\"text-align: right;\">\n",
       "      <th></th>\n",
       "      <th>Use of AI</th>\n",
       "      <th>AI Competence</th>\n",
       "      <th>Digital Resources</th>\n",
       "    </tr>\n",
       "  </thead>\n",
       "  <tbody>\n",
       "    <tr>\n",
       "      <th>Use of AI</th>\n",
       "      <td>1</td>\n",
       "      <td>0.362**</td>\n",
       "      <td>0.338**</td>\n",
       "    </tr>\n",
       "    <tr>\n",
       "      <th>AI Competence</th>\n",
       "      <td>0.362**</td>\n",
       "      <td>1</td>\n",
       "      <td>0.232**</td>\n",
       "    </tr>\n",
       "    <tr>\n",
       "      <th>Digital Resources</th>\n",
       "      <td>0.338**</td>\n",
       "      <td>0.232**</td>\n",
       "      <td>1</td>\n",
       "    </tr>\n",
       "  </tbody>\n",
       "</table>\n",
       "</div>"
      ]
     },
     "metadata": {},
     "output_type": "display_data"
    }
   ],
   "execution_count": 5
  },
  {
   "cell_type": "code",
   "id": "ea7a7d81fa9d778f",
   "metadata": {
    "ExecuteTime": {
     "end_time": "2025-05-21T20:19:16.554725Z",
     "start_time": "2025-05-21T20:19:16.023905Z"
    }
   },
   "source": [
    "import statsmodels.api as sm\n",
    "\n",
    "def train_model(y_column, x_columns, data):\n",
    "    X = sm.add_constant(data[x_columns])\n",
    "    y = data[y_column]\n",
    "    model = sm.OLS(y, X).fit()\n",
    "    return model\n",
    "\n",
    "use_of_ai_model = train_model(\"use_of_ai\", [\"ai_competence\", \"digital_resource\"], database)\n",
    "digital_resource_model = train_model(\"digital_resource\", [\"ai_competence\", \"use_of_ai\"], database)"
   ],
   "outputs": [],
   "execution_count": 6
  },
  {
   "cell_type": "markdown",
   "id": "794fb41906684885",
   "metadata": {},
   "source": [
    "### Paper's table 4: Multiple regression adjustment model"
   ]
  },
  {
   "cell_type": "code",
   "id": "a85842a6328e6ab0",
   "metadata": {
    "ExecuteTime": {
     "end_time": "2025-05-21T20:19:16.569758Z",
     "start_time": "2025-05-21T20:19:16.563494Z"
    }
   },
   "source": [
    "def generate_model_line(model_name, model):\n",
    "    r_squared = model.rsquared\n",
    "    adj_r_squared = model.rsquared_adj\n",
    "    r = r_squared**0.5\n",
    "    std_error = model.mse_resid**0.5\n",
    "    f_stat = model.fvalue\n",
    "    f_pvalue = model.f_pvalue\n",
    "\n",
    "    return {\n",
    "        \"Model\": model_name,\n",
    "        \"R\": round(r, 3),\n",
    "        \"R Square\": round(r_squared, 3),\n",
    "        \"Adjusted R Square\": round(adj_r_squared, 3),\n",
    "        \"Standard Error\": round(std_error, 3),\n",
    "        \"F Statistic\": round(f_stat, 3),\n",
    "        \"Sig. F Change\": f_pvalue if f_pvalue >= 0.001 else \"< 0.001\"\n",
    "    }\n",
    "\n",
    "lines = [\n",
    "    generate_model_line(\"Use of AI\", use_of_ai_model),\n",
    "    generate_model_line(\"Digital Resources\", digital_resource_model)\n",
    "]\n",
    "\n",
    "regression_table = pd.DataFrame(lines)\n",
    "display(regression_table)"
   ],
   "outputs": [
    {
     "data": {
      "text/plain": [
       "               Model      R  R Square  Adjusted R Square  Standard Error  \\\n",
       "0          Use of AI  0.446     0.199              0.196           0.368   \n",
       "1  Digital Resources  0.358     0.128              0.124           0.390   \n",
       "\n",
       "   F Statistic Sig. F Change  \n",
       "0       56.742       < 0.001  \n",
       "1       33.482       < 0.001  "
      ],
      "text/html": [
       "<div>\n",
       "<style scoped>\n",
       "    .dataframe tbody tr th:only-of-type {\n",
       "        vertical-align: middle;\n",
       "    }\n",
       "\n",
       "    .dataframe tbody tr th {\n",
       "        vertical-align: top;\n",
       "    }\n",
       "\n",
       "    .dataframe thead th {\n",
       "        text-align: right;\n",
       "    }\n",
       "</style>\n",
       "<table border=\"1\" class=\"dataframe\">\n",
       "  <thead>\n",
       "    <tr style=\"text-align: right;\">\n",
       "      <th></th>\n",
       "      <th>Model</th>\n",
       "      <th>R</th>\n",
       "      <th>R Square</th>\n",
       "      <th>Adjusted R Square</th>\n",
       "      <th>Standard Error</th>\n",
       "      <th>F Statistic</th>\n",
       "      <th>Sig. F Change</th>\n",
       "    </tr>\n",
       "  </thead>\n",
       "  <tbody>\n",
       "    <tr>\n",
       "      <th>0</th>\n",
       "      <td>Use of AI</td>\n",
       "      <td>0.446</td>\n",
       "      <td>0.199</td>\n",
       "      <td>0.196</td>\n",
       "      <td>0.368</td>\n",
       "      <td>56.742</td>\n",
       "      <td>&lt; 0.001</td>\n",
       "    </tr>\n",
       "    <tr>\n",
       "      <th>1</th>\n",
       "      <td>Digital Resources</td>\n",
       "      <td>0.358</td>\n",
       "      <td>0.128</td>\n",
       "      <td>0.124</td>\n",
       "      <td>0.390</td>\n",
       "      <td>33.482</td>\n",
       "      <td>&lt; 0.001</td>\n",
       "    </tr>\n",
       "  </tbody>\n",
       "</table>\n",
       "</div>"
      ]
     },
     "metadata": {},
     "output_type": "display_data"
    }
   ],
   "execution_count": 7
  },
  {
   "cell_type": "code",
   "id": "d603820772bd2614",
   "metadata": {
    "ExecuteTime": {
     "end_time": "2025-05-21T20:19:16.591124Z",
     "start_time": "2025-05-21T20:19:16.588702Z"
    }
   },
   "source": [
    "intercept_use_of_ai = use_of_ai_model.params[\"const\"]\n",
    "beta1_use_of_ai = use_of_ai_model.params[\"ai_competence\"]\n",
    "beta2_use_of_ai = use_of_ai_model.params[\"digital_resource\"]"
   ],
   "outputs": [],
   "execution_count": 8
  },
  {
   "cell_type": "markdown",
   "id": "e7ae8d3443e46ccc",
   "metadata": {},
   "source": [
    "## The regression equation"
   ]
  },
  {
   "cell_type": "code",
   "id": "9514ad34deaa5393",
   "metadata": {
    "ExecuteTime": {
     "end_time": "2025-05-21T20:19:16.641201Z",
     "start_time": "2025-05-21T20:19:16.638751Z"
    }
   },
   "source": [
    "equation = f\"Use of AI = {intercept_use_of_ai:.1f} + [{beta1_use_of_ai:.1f} * (AI Competence)] + [{beta2_use_of_ai:.1f} * (Digital Resources)]\"\n",
    "print(\"Regression Equation:\")\n",
    "print(equation)"
   ],
   "outputs": [
    {
     "name": "stdout",
     "output_type": "stream",
     "text": [
      "Regression Equation:\n",
      "Use of AI = 2.6 + [0.2 * (AI Competence)] + [0.3 * (Digital Resources)]\n"
     ]
    }
   ],
   "execution_count": 9
  },
  {
   "cell_type": "markdown",
   "id": "921e24fbf2e72ad5",
   "metadata": {},
   "source": [
    "## Comparing predicted and actual values"
   ]
  },
  {
   "cell_type": "code",
   "id": "3c24fed0aa5a43f1",
   "metadata": {
    "ExecuteTime": {
     "end_time": "2025-05-21T20:19:16.685545Z",
     "start_time": "2025-05-21T20:19:16.668378Z"
    }
   },
   "source": [
    "database[\"original_predicted_use_of_ai\"] = (\n",
    "    intercept_use_of_ai +\n",
    "    beta1_use_of_ai * database[\"ai_competence\"] +\n",
    "    beta2_use_of_ai * database[\"digital_resource\"]\n",
    ").round(2)\n",
    "\n",
    "database[\"original_absolute_error\"] = (\n",
    "    database[\"use_of_ai\"] - database[\"original_predicted_use_of_ai\"]\n",
    ").abs().round(2)\n",
    "\n",
    "database[[\"use_of_ai\", \"original_predicted_use_of_ai\", \"original_absolute_error\"]].head()"
   ],
   "outputs": [
    {
     "data": {
      "text/plain": [
       "   use_of_ai  original_predicted_use_of_ai  original_absolute_error\n",
       "0       4.40                          4.57                     0.17\n",
       "1       4.19                          4.25                     0.06\n",
       "2       4.63                          4.25                     0.38\n",
       "3       4.43                          4.46                     0.03\n",
       "4       4.11                          4.39                     0.28"
      ],
      "text/html": [
       "<div>\n",
       "<style scoped>\n",
       "    .dataframe tbody tr th:only-of-type {\n",
       "        vertical-align: middle;\n",
       "    }\n",
       "\n",
       "    .dataframe tbody tr th {\n",
       "        vertical-align: top;\n",
       "    }\n",
       "\n",
       "    .dataframe thead th {\n",
       "        text-align: right;\n",
       "    }\n",
       "</style>\n",
       "<table border=\"1\" class=\"dataframe\">\n",
       "  <thead>\n",
       "    <tr style=\"text-align: right;\">\n",
       "      <th></th>\n",
       "      <th>use_of_ai</th>\n",
       "      <th>original_predicted_use_of_ai</th>\n",
       "      <th>original_absolute_error</th>\n",
       "    </tr>\n",
       "  </thead>\n",
       "  <tbody>\n",
       "    <tr>\n",
       "      <th>0</th>\n",
       "      <td>4.40</td>\n",
       "      <td>4.57</td>\n",
       "      <td>0.17</td>\n",
       "    </tr>\n",
       "    <tr>\n",
       "      <th>1</th>\n",
       "      <td>4.19</td>\n",
       "      <td>4.25</td>\n",
       "      <td>0.06</td>\n",
       "    </tr>\n",
       "    <tr>\n",
       "      <th>2</th>\n",
       "      <td>4.63</td>\n",
       "      <td>4.25</td>\n",
       "      <td>0.38</td>\n",
       "    </tr>\n",
       "    <tr>\n",
       "      <th>3</th>\n",
       "      <td>4.43</td>\n",
       "      <td>4.46</td>\n",
       "      <td>0.03</td>\n",
       "    </tr>\n",
       "    <tr>\n",
       "      <th>4</th>\n",
       "      <td>4.11</td>\n",
       "      <td>4.39</td>\n",
       "      <td>0.28</td>\n",
       "    </tr>\n",
       "  </tbody>\n",
       "</table>\n",
       "</div>"
      ]
     },
     "execution_count": 10,
     "metadata": {},
     "output_type": "execute_result"
    }
   ],
   "execution_count": 10
  },
  {
   "cell_type": "code",
   "id": "9d17daa1c2612a13",
   "metadata": {
    "ExecuteTime": {
     "end_time": "2025-05-21T20:19:16.729640Z",
     "start_time": "2025-05-21T20:19:16.722312Z"
    }
   },
   "source": [
    "variable_labels = {\n",
    "    \"use_of_ai\": \"Use of AI\",\n",
    "    \"original_predicted_use_of_ai\": \"Original predicted use of AI\",\n",
    "    \"original_absolute_error\": \"Original absolute error\"\n",
    "}\n",
    "\n",
    "variables = list(variable_labels.keys())\n",
    "\n",
    "stats = {\n",
    "    \"Variable\": [variable_labels[var] for var in variables],\n",
    "    \"Mean\": [database[var].mean() for var in variables],\n",
    "    \"Standard Deviation\": [database[var].std() for var in variables]\n",
    "}\n",
    "\n",
    "stats_table = pd.DataFrame(stats)\n",
    "\n",
    "display(stats_table)"
   ],
   "outputs": [
    {
     "data": {
      "text/plain": [
       "                       Variable      Mean  Standard Deviation\n",
       "0                     Use of AI  4.567298            0.410090\n",
       "1  Original predicted use of AI  4.567473            0.183066\n",
       "2       Original absolute error  0.302092            0.207743"
      ],
      "text/html": [
       "<div>\n",
       "<style scoped>\n",
       "    .dataframe tbody tr th:only-of-type {\n",
       "        vertical-align: middle;\n",
       "    }\n",
       "\n",
       "    .dataframe tbody tr th {\n",
       "        vertical-align: top;\n",
       "    }\n",
       "\n",
       "    .dataframe thead th {\n",
       "        text-align: right;\n",
       "    }\n",
       "</style>\n",
       "<table border=\"1\" class=\"dataframe\">\n",
       "  <thead>\n",
       "    <tr style=\"text-align: right;\">\n",
       "      <th></th>\n",
       "      <th>Variable</th>\n",
       "      <th>Mean</th>\n",
       "      <th>Standard Deviation</th>\n",
       "    </tr>\n",
       "  </thead>\n",
       "  <tbody>\n",
       "    <tr>\n",
       "      <th>0</th>\n",
       "      <td>Use of AI</td>\n",
       "      <td>4.567298</td>\n",
       "      <td>0.410090</td>\n",
       "    </tr>\n",
       "    <tr>\n",
       "      <th>1</th>\n",
       "      <td>Original predicted use of AI</td>\n",
       "      <td>4.567473</td>\n",
       "      <td>0.183066</td>\n",
       "    </tr>\n",
       "    <tr>\n",
       "      <th>2</th>\n",
       "      <td>Original absolute error</td>\n",
       "      <td>0.302092</td>\n",
       "      <td>0.207743</td>\n",
       "    </tr>\n",
       "  </tbody>\n",
       "</table>\n",
       "</div>"
      ]
     },
     "metadata": {},
     "output_type": "display_data"
    }
   ],
   "execution_count": 11
  },
  {
   "cell_type": "markdown",
   "id": "e576e846f5339533",
   "metadata": {},
   "source": [
    "# Our change purpose"
   ]
  }
 ],
 "metadata": {
  "kernelspec": {
   "display_name": "Python 3 (ipykernel)",
   "language": "python",
   "name": "python3"
  },
  "language_info": {
   "codemirror_mode": {
    "name": "ipython",
    "version": 3
   },
   "file_extension": ".py",
   "mimetype": "text/x-python",
   "name": "python",
   "nbconvert_exporter": "python",
   "pygments_lexer": "ipython3",
   "version": "3.12.7"
  }
 },
 "nbformat": 4,
 "nbformat_minor": 5
}
