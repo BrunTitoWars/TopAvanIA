{
  "cells": [
    {
      "cell_type": "markdown",
      "metadata": {
        "colab_type": "text",
        "id": "view-in-github"
      },
      "source": [
        "<a href=\"https://colab.research.google.com/github/BrunTitoWars/TopAvanIA/blob/main/final_ai_topics.ipynb\" target=\"_parent\"><img src=\"https://colab.research.google.com/assets/colab-badge.svg\" alt=\"Open In Colab\"/></a>"
      ]
    },
    {
      "cell_type": "markdown",
      "id": "db4ca3d0688a9de0",
      "metadata": {
        "id": "db4ca3d0688a9de0"
      },
      "source": [
        "# Importing database"
      ]
    },
    {
      "cell_type": "code",
      "execution_count": 202,
      "id": "f7b68f77f062cb34",
      "metadata": {
        "ExecuteTime": {
          "end_time": "2025-05-23T01:49:10.283826Z",
          "start_time": "2025-05-23T01:49:09.559626Z"
        },
        "id": "f7b68f77f062cb34"
      },
      "outputs": [],
      "source": [
        "import pandas as pd\n",
        "from rich.jupyter import display"
      ]
    },
    {
      "cell_type": "code",
      "execution_count": 203,
      "id": "7fd1360604b3e5d2",
      "metadata": {
        "ExecuteTime": {
          "end_time": "2025-05-23T01:49:10.338297Z",
          "start_time": "2025-05-23T01:49:10.323603Z"
        },
        "colab": {
          "base_uri": "https://localhost:8080/"
        },
        "id": "7fd1360604b3e5d2",
        "outputId": "5713639b-2393-48e3-b7fa-bee8af8e1169"
      },
      "outputs": [
        {
          "name": "stdout",
          "output_type": "stream",
          "text": [
            "395 lines x 33 columns of mat students\n",
            "649 lines x 33 columns of por students\n"
          ]
        }
      ],
      "source": [
        "database_mat = pd.read_csv('student-mat.csv', sep=';')\n",
        "print(f'{database_mat.shape[0]} lines x {database_mat.shape[1]} columns of mat students')\n",
        "\n",
        "database_por = pd.read_csv('student-por.csv', sep=';')\n",
        "print(f'{database_por.shape[0]} lines x {database_por.shape[1]} columns of por students')"
      ]
    },
    {
      "cell_type": "code",
      "execution_count": 204,
      "id": "511946ade34f61d2",
      "metadata": {
        "ExecuteTime": {
          "end_time": "2025-05-23T01:49:10.366269Z",
          "start_time": "2025-05-23T01:49:10.358961Z"
        },
        "colab": {
          "base_uri": "https://localhost:8080/",
          "height": 206
        },
        "id": "511946ade34f61d2",
        "outputId": "06fd8cb2-ace5-4519-e6f3-7308491f9bb0"
      },
      "outputs": [
        {
          "data": {
            "text/html": [
              "<div>\n",
              "<style scoped>\n",
              "    .dataframe tbody tr th:only-of-type {\n",
              "        vertical-align: middle;\n",
              "    }\n",
              "\n",
              "    .dataframe tbody tr th {\n",
              "        vertical-align: top;\n",
              "    }\n",
              "\n",
              "    .dataframe thead th {\n",
              "        text-align: right;\n",
              "    }\n",
              "</style>\n",
              "<table border=\"1\" class=\"dataframe\">\n",
              "  <thead>\n",
              "    <tr style=\"text-align: right;\">\n",
              "      <th></th>\n",
              "      <th>G1</th>\n",
              "      <th>G2</th>\n",
              "      <th>G3</th>\n",
              "    </tr>\n",
              "  </thead>\n",
              "  <tbody>\n",
              "    <tr>\n",
              "      <th>0</th>\n",
              "      <td>5</td>\n",
              "      <td>6</td>\n",
              "      <td>6</td>\n",
              "    </tr>\n",
              "    <tr>\n",
              "      <th>1</th>\n",
              "      <td>5</td>\n",
              "      <td>5</td>\n",
              "      <td>6</td>\n",
              "    </tr>\n",
              "    <tr>\n",
              "      <th>2</th>\n",
              "      <td>7</td>\n",
              "      <td>8</td>\n",
              "      <td>10</td>\n",
              "    </tr>\n",
              "    <tr>\n",
              "      <th>3</th>\n",
              "      <td>15</td>\n",
              "      <td>14</td>\n",
              "      <td>15</td>\n",
              "    </tr>\n",
              "    <tr>\n",
              "      <th>4</th>\n",
              "      <td>6</td>\n",
              "      <td>10</td>\n",
              "      <td>10</td>\n",
              "    </tr>\n",
              "  </tbody>\n",
              "</table>\n",
              "</div>"
            ],
            "text/plain": [
              "   G1  G2  G3\n",
              "0   5   6   6\n",
              "1   5   5   6\n",
              "2   7   8  10\n",
              "3  15  14  15\n",
              "4   6  10  10"
            ]
          },
          "execution_count": 204,
          "metadata": {},
          "output_type": "execute_result"
        }
      ],
      "source": [
        "database_mat = database_mat[['G1', 'G2', 'G3']]\n",
        "database_mat.head()"
      ]
    },
    {
      "cell_type": "code",
      "execution_count": 205,
      "id": "76ac7ca25a70f31e",
      "metadata": {
        "ExecuteTime": {
          "end_time": "2025-05-23T01:49:10.401968Z",
          "start_time": "2025-05-23T01:49:10.397238Z"
        },
        "colab": {
          "base_uri": "https://localhost:8080/",
          "height": 206
        },
        "id": "76ac7ca25a70f31e",
        "outputId": "7d531a21-984f-4967-dfd2-5584a069299b"
      },
      "outputs": [
        {
          "data": {
            "text/html": [
              "<div>\n",
              "<style scoped>\n",
              "    .dataframe tbody tr th:only-of-type {\n",
              "        vertical-align: middle;\n",
              "    }\n",
              "\n",
              "    .dataframe tbody tr th {\n",
              "        vertical-align: top;\n",
              "    }\n",
              "\n",
              "    .dataframe thead th {\n",
              "        text-align: right;\n",
              "    }\n",
              "</style>\n",
              "<table border=\"1\" class=\"dataframe\">\n",
              "  <thead>\n",
              "    <tr style=\"text-align: right;\">\n",
              "      <th></th>\n",
              "      <th>G1</th>\n",
              "      <th>G2</th>\n",
              "      <th>G3</th>\n",
              "    </tr>\n",
              "  </thead>\n",
              "  <tbody>\n",
              "    <tr>\n",
              "      <th>0</th>\n",
              "      <td>0</td>\n",
              "      <td>11</td>\n",
              "      <td>11</td>\n",
              "    </tr>\n",
              "    <tr>\n",
              "      <th>1</th>\n",
              "      <td>9</td>\n",
              "      <td>11</td>\n",
              "      <td>11</td>\n",
              "    </tr>\n",
              "    <tr>\n",
              "      <th>2</th>\n",
              "      <td>12</td>\n",
              "      <td>13</td>\n",
              "      <td>12</td>\n",
              "    </tr>\n",
              "    <tr>\n",
              "      <th>3</th>\n",
              "      <td>14</td>\n",
              "      <td>14</td>\n",
              "      <td>14</td>\n",
              "    </tr>\n",
              "    <tr>\n",
              "      <th>4</th>\n",
              "      <td>11</td>\n",
              "      <td>13</td>\n",
              "      <td>13</td>\n",
              "    </tr>\n",
              "  </tbody>\n",
              "</table>\n",
              "</div>"
            ],
            "text/plain": [
              "   G1  G2  G3\n",
              "0   0  11  11\n",
              "1   9  11  11\n",
              "2  12  13  12\n",
              "3  14  14  14\n",
              "4  11  13  13"
            ]
          },
          "execution_count": 205,
          "metadata": {},
          "output_type": "execute_result"
        }
      ],
      "source": [
        "database_por = database_por[['G1', 'G2', 'G3']]\n",
        "database_por.head()"
      ]
    },
    {
      "cell_type": "markdown",
      "id": "16592fe6549aa9df",
      "metadata": {
        "id": "16592fe6549aa9df"
      },
      "source": [
        "# Results analysis"
      ]
    },
    {
      "cell_type": "markdown",
      "id": "22c139fd2231a8c7",
      "metadata": {
        "id": "22c139fd2231a8c7"
      },
      "source": [
        "### Paper's table 2: Results of the descriptive analysis"
      ]
    },
    {
      "cell_type": "code",
      "execution_count": 206,
      "id": "5d6ba39e8f9e8b35",
      "metadata": {
        "ExecuteTime": {
          "end_time": "2025-05-23T01:49:11.311614Z",
          "start_time": "2025-05-23T01:49:10.484048Z"
        },
        "id": "5d6ba39e8f9e8b35"
      },
      "outputs": [],
      "source": [
        "from scipy.stats import pearsonr\n",
        "from IPython.display import display\n",
        "\n",
        "variable_labels = {\n",
        "    \"G1\": \"First year\",\n",
        "    \"G2\": \"Second year\",\n",
        "    \"G3\": \"Third year\"\n",
        "}\n",
        "\n",
        "variables = list(variable_labels.keys())\n",
        "\n",
        "stats_mat = {\n",
        "    \"Variable\": [variable_labels[var] for var in variables],\n",
        "    \"Mean\": [database_mat[var].mean() for var in variables],\n",
        "    \"Standard Deviation\": [database_mat[var].std() for var in variables]\n",
        "}\n",
        "\n",
        "stats_por = {\n",
        "    \"Variable\": [variable_labels[var] for var in variables],\n",
        "    \"Mean\": [database_por[var].mean() for var in variables],\n",
        "    \"Standard Deviation\": [database_por[var].std() for var in variables]\n",
        "}\n",
        "\n",
        "stats_table_mat = pd.DataFrame(stats_mat)\n",
        "\n",
        "stats_table_por = pd.DataFrame(stats_por)"
      ]
    },
    {
      "cell_type": "code",
      "execution_count": 207,
      "id": "acfcb5dcec4f5969",
      "metadata": {
        "ExecuteTime": {
          "end_time": "2025-05-23T01:49:11.340734Z",
          "start_time": "2025-05-23T01:49:11.337356Z"
        },
        "colab": {
          "base_uri": "https://localhost:8080/",
          "height": 143
        },
        "id": "acfcb5dcec4f5969",
        "outputId": "55aeb366-fe7c-4b5c-970b-e2f23a4ae1b4"
      },
      "outputs": [
        {
          "data": {
            "text/html": [
              "<div>\n",
              "<style scoped>\n",
              "    .dataframe tbody tr th:only-of-type {\n",
              "        vertical-align: middle;\n",
              "    }\n",
              "\n",
              "    .dataframe tbody tr th {\n",
              "        vertical-align: top;\n",
              "    }\n",
              "\n",
              "    .dataframe thead th {\n",
              "        text-align: right;\n",
              "    }\n",
              "</style>\n",
              "<table border=\"1\" class=\"dataframe\">\n",
              "  <thead>\n",
              "    <tr style=\"text-align: right;\">\n",
              "      <th></th>\n",
              "      <th>Variable</th>\n",
              "      <th>Mean</th>\n",
              "      <th>Standard Deviation</th>\n",
              "    </tr>\n",
              "  </thead>\n",
              "  <tbody>\n",
              "    <tr>\n",
              "      <th>0</th>\n",
              "      <td>First year</td>\n",
              "      <td>10.908861</td>\n",
              "      <td>3.319195</td>\n",
              "    </tr>\n",
              "    <tr>\n",
              "      <th>1</th>\n",
              "      <td>Second year</td>\n",
              "      <td>10.713924</td>\n",
              "      <td>3.761505</td>\n",
              "    </tr>\n",
              "    <tr>\n",
              "      <th>2</th>\n",
              "      <td>Third year</td>\n",
              "      <td>10.415190</td>\n",
              "      <td>4.581443</td>\n",
              "    </tr>\n",
              "  </tbody>\n",
              "</table>\n",
              "</div>"
            ],
            "text/plain": [
              "      Variable       Mean  Standard Deviation\n",
              "0   First year  10.908861            3.319195\n",
              "1  Second year  10.713924            3.761505\n",
              "2   Third year  10.415190            4.581443"
            ]
          },
          "metadata": {},
          "output_type": "display_data"
        }
      ],
      "source": [
        "display(stats_table_mat)"
      ]
    },
    {
      "cell_type": "code",
      "execution_count": 208,
      "id": "3052a1703097922d",
      "metadata": {
        "ExecuteTime": {
          "end_time": "2025-05-23T01:49:11.416089Z",
          "start_time": "2025-05-23T01:49:11.412374Z"
        },
        "colab": {
          "base_uri": "https://localhost:8080/",
          "height": 143
        },
        "id": "3052a1703097922d",
        "outputId": "a7821155-de0f-492e-efdd-93beb7511c3e"
      },
      "outputs": [
        {
          "data": {
            "text/html": [
              "<div>\n",
              "<style scoped>\n",
              "    .dataframe tbody tr th:only-of-type {\n",
              "        vertical-align: middle;\n",
              "    }\n",
              "\n",
              "    .dataframe tbody tr th {\n",
              "        vertical-align: top;\n",
              "    }\n",
              "\n",
              "    .dataframe thead th {\n",
              "        text-align: right;\n",
              "    }\n",
              "</style>\n",
              "<table border=\"1\" class=\"dataframe\">\n",
              "  <thead>\n",
              "    <tr style=\"text-align: right;\">\n",
              "      <th></th>\n",
              "      <th>Variable</th>\n",
              "      <th>Mean</th>\n",
              "      <th>Standard Deviation</th>\n",
              "    </tr>\n",
              "  </thead>\n",
              "  <tbody>\n",
              "    <tr>\n",
              "      <th>0</th>\n",
              "      <td>First year</td>\n",
              "      <td>11.399076</td>\n",
              "      <td>2.745265</td>\n",
              "    </tr>\n",
              "    <tr>\n",
              "      <th>1</th>\n",
              "      <td>Second year</td>\n",
              "      <td>11.570108</td>\n",
              "      <td>2.913639</td>\n",
              "    </tr>\n",
              "    <tr>\n",
              "      <th>2</th>\n",
              "      <td>Third year</td>\n",
              "      <td>11.906009</td>\n",
              "      <td>3.230656</td>\n",
              "    </tr>\n",
              "  </tbody>\n",
              "</table>\n",
              "</div>"
            ],
            "text/plain": [
              "      Variable       Mean  Standard Deviation\n",
              "0   First year  11.399076            2.745265\n",
              "1  Second year  11.570108            2.913639\n",
              "2   Third year  11.906009            3.230656"
            ]
          },
          "metadata": {},
          "output_type": "display_data"
        }
      ],
      "source": [
        "display(stats_table_por)"
      ]
    },
    {
      "cell_type": "markdown",
      "id": "2418f6398cb73858",
      "metadata": {
        "id": "2418f6398cb73858"
      },
      "source": [
        "### Paper's table 3: Results of the descriptive correlation analysis"
      ]
    },
    {
      "cell_type": "code",
      "execution_count": 209,
      "id": "a3dc00719fed78ea",
      "metadata": {
        "ExecuteTime": {
          "end_time": "2025-05-23T01:49:11.478599Z",
          "start_time": "2025-05-23T01:49:11.470533Z"
        },
        "colab": {
          "base_uri": "https://localhost:8080/",
          "height": 143
        },
        "id": "a3dc00719fed78ea",
        "outputId": "d1bbdbd7-020c-4c3a-a7bb-d86aa4f4f649"
      },
      "outputs": [
        {
          "data": {
            "text/html": [
              "<div>\n",
              "<style scoped>\n",
              "    .dataframe tbody tr th:only-of-type {\n",
              "        vertical-align: middle;\n",
              "    }\n",
              "\n",
              "    .dataframe tbody tr th {\n",
              "        vertical-align: top;\n",
              "    }\n",
              "\n",
              "    .dataframe thead th {\n",
              "        text-align: right;\n",
              "    }\n",
              "</style>\n",
              "<table border=\"1\" class=\"dataframe\">\n",
              "  <thead>\n",
              "    <tr style=\"text-align: right;\">\n",
              "      <th></th>\n",
              "      <th>First year</th>\n",
              "      <th>Second year</th>\n",
              "      <th>Third year</th>\n",
              "    </tr>\n",
              "  </thead>\n",
              "  <tbody>\n",
              "    <tr>\n",
              "      <th>First year</th>\n",
              "      <td>1</td>\n",
              "      <td>0.852**</td>\n",
              "      <td>0.801**</td>\n",
              "    </tr>\n",
              "    <tr>\n",
              "      <th>Second year</th>\n",
              "      <td>0.852**</td>\n",
              "      <td>1</td>\n",
              "      <td>0.905**</td>\n",
              "    </tr>\n",
              "    <tr>\n",
              "      <th>Third year</th>\n",
              "      <td>0.801**</td>\n",
              "      <td>0.905**</td>\n",
              "      <td>1</td>\n",
              "    </tr>\n",
              "  </tbody>\n",
              "</table>\n",
              "</div>"
            ],
            "text/plain": [
              "            First year Second year Third year\n",
              "First year           1     0.852**    0.801**\n",
              "Second year    0.852**           1    0.905**\n",
              "Third year     0.801**     0.905**          1"
            ]
          },
          "metadata": {},
          "output_type": "display_data"
        }
      ],
      "source": [
        "correlation_data_mat = {variable_labels[var]: [] for var in variables}\n",
        "\n",
        "for var1 in variables:\n",
        "    for var2 in variables:\n",
        "        if var1 == var2:\n",
        "            correlation_data_mat[variable_labels[var2]].append(\"1\")\n",
        "        else:\n",
        "            r, p = pearsonr(database_mat[var1], database_mat[var2])\n",
        "            formatted = f\"{r:.3f}\" + (\"**\" if p < 0.01 else \"\")\n",
        "            correlation_data_mat[variable_labels[var2]].append(formatted)\n",
        "\n",
        "correlation_table_mat = pd.DataFrame(correlation_data_mat, index=[variable_labels[v] for v in variables])\n",
        "\n",
        "display(correlation_table_mat)"
      ]
    },
    {
      "cell_type": "code",
      "execution_count": 210,
      "id": "47f55ab465f36b00",
      "metadata": {
        "ExecuteTime": {
          "end_time": "2025-05-23T01:49:11.544210Z",
          "start_time": "2025-05-23T01:49:11.534541Z"
        },
        "colab": {
          "base_uri": "https://localhost:8080/",
          "height": 143
        },
        "id": "47f55ab465f36b00",
        "outputId": "5cdc3785-4b90-4526-c7d7-ac4cd7ea5bf7"
      },
      "outputs": [
        {
          "data": {
            "text/html": [
              "<div>\n",
              "<style scoped>\n",
              "    .dataframe tbody tr th:only-of-type {\n",
              "        vertical-align: middle;\n",
              "    }\n",
              "\n",
              "    .dataframe tbody tr th {\n",
              "        vertical-align: top;\n",
              "    }\n",
              "\n",
              "    .dataframe thead th {\n",
              "        text-align: right;\n",
              "    }\n",
              "</style>\n",
              "<table border=\"1\" class=\"dataframe\">\n",
              "  <thead>\n",
              "    <tr style=\"text-align: right;\">\n",
              "      <th></th>\n",
              "      <th>First year</th>\n",
              "      <th>Second year</th>\n",
              "      <th>Third year</th>\n",
              "    </tr>\n",
              "  </thead>\n",
              "  <tbody>\n",
              "    <tr>\n",
              "      <th>First year</th>\n",
              "      <td>1</td>\n",
              "      <td>0.865**</td>\n",
              "      <td>0.826**</td>\n",
              "    </tr>\n",
              "    <tr>\n",
              "      <th>Second year</th>\n",
              "      <td>0.865**</td>\n",
              "      <td>1</td>\n",
              "      <td>0.919**</td>\n",
              "    </tr>\n",
              "    <tr>\n",
              "      <th>Third year</th>\n",
              "      <td>0.826**</td>\n",
              "      <td>0.919**</td>\n",
              "      <td>1</td>\n",
              "    </tr>\n",
              "  </tbody>\n",
              "</table>\n",
              "</div>"
            ],
            "text/plain": [
              "            First year Second year Third year\n",
              "First year           1     0.865**    0.826**\n",
              "Second year    0.865**           1    0.919**\n",
              "Third year     0.826**     0.919**          1"
            ]
          },
          "metadata": {},
          "output_type": "display_data"
        }
      ],
      "source": [
        "correlation_data_por = {variable_labels[var]: [] for var in variables}\n",
        "\n",
        "for var1 in variables:\n",
        "    for var2 in variables:\n",
        "        if var1 == var2:\n",
        "            correlation_data_por[variable_labels[var2]].append(\"1\")\n",
        "        else:\n",
        "            r, p = pearsonr(database_por[var1], database_por[var2])\n",
        "            formatted = f\"{r:.3f}\" + (\"**\" if p < 0.01 else \"\")\n",
        "            correlation_data_por[variable_labels[var2]].append(formatted)\n",
        "\n",
        "correlation_table_por = pd.DataFrame(correlation_data_por, index=[variable_labels[v] for v in variables])\n",
        "\n",
        "display(correlation_table_por)"
      ]
    },
    {
      "cell_type": "markdown",
      "id": "9a41acd7",
      "metadata": {},
      "source": [
        "## Training Model"
      ]
    },
    {
      "cell_type": "code",
      "execution_count": 211,
      "id": "ea7a7d81fa9d778f",
      "metadata": {
        "ExecuteTime": {
          "end_time": "2025-05-23T01:49:12.131373Z",
          "start_time": "2025-05-23T01:49:11.607236Z"
        },
        "id": "ea7a7d81fa9d778f"
      },
      "outputs": [],
      "source": [
        "import statsmodels.api as sm\n",
        "\n",
        "def train_model(y_column, x_columns, data):\n",
        "    X = sm.add_constant(data[x_columns])\n",
        "    y = data[y_column]\n",
        "    model = sm.OLS(y, X).fit()\n",
        "    return model\n",
        "\n",
        "rl_mat_model = train_model(\"G3\", [\"G1\", \"G2\"], database_mat)\n",
        "\n",
        "rl_por_model = train_model(\"G3\", [\"G1\", \"G2\"], database_por)"
      ]
    },
    {
      "cell_type": "markdown",
      "id": "794fb41906684885",
      "metadata": {
        "id": "794fb41906684885"
      },
      "source": [
        "### Paper's table 4: Multiple regression adjustment model"
      ]
    },
    {
      "cell_type": "code",
      "execution_count": 212,
      "id": "a85842a6328e6ab0",
      "metadata": {
        "ExecuteTime": {
          "end_time": "2025-05-23T01:49:12.148610Z",
          "start_time": "2025-05-23T01:49:12.142517Z"
        },
        "colab": {
          "base_uri": "https://localhost:8080/",
          "height": 125
        },
        "id": "a85842a6328e6ab0",
        "outputId": "2d732dd3-4e5b-45a2-b555-94fe7bc7f71e"
      },
      "outputs": [
        {
          "data": {
            "text/html": [
              "<div>\n",
              "<style scoped>\n",
              "    .dataframe tbody tr th:only-of-type {\n",
              "        vertical-align: middle;\n",
              "    }\n",
              "\n",
              "    .dataframe tbody tr th {\n",
              "        vertical-align: top;\n",
              "    }\n",
              "\n",
              "    .dataframe thead th {\n",
              "        text-align: right;\n",
              "    }\n",
              "</style>\n",
              "<table border=\"1\" class=\"dataframe\">\n",
              "  <thead>\n",
              "    <tr style=\"text-align: right;\">\n",
              "      <th></th>\n",
              "      <th>Model</th>\n",
              "      <th>R</th>\n",
              "      <th>R Square</th>\n",
              "      <th>Adjusted R Square</th>\n",
              "      <th>Standard Error</th>\n",
              "      <th>F Statistic</th>\n",
              "      <th>Sig. F Change</th>\n",
              "    </tr>\n",
              "  </thead>\n",
              "  <tbody>\n",
              "    <tr>\n",
              "      <th>0</th>\n",
              "      <td>Third year - Mat</td>\n",
              "      <td>0.907</td>\n",
              "      <td>0.822</td>\n",
              "      <td>0.821</td>\n",
              "      <td>1.937</td>\n",
              "      <td>906.134</td>\n",
              "      <td>&lt; 0.001</td>\n",
              "    </tr>\n",
              "    <tr>\n",
              "      <th>1</th>\n",
              "      <td>Third year - Por</td>\n",
              "      <td>0.921</td>\n",
              "      <td>0.848</td>\n",
              "      <td>0.847</td>\n",
              "      <td>1.262</td>\n",
              "      <td>1798.671</td>\n",
              "      <td>&lt; 0.001</td>\n",
              "    </tr>\n",
              "  </tbody>\n",
              "</table>\n",
              "</div>"
            ],
            "text/plain": [
              "              Model      R  R Square  Adjusted R Square  Standard Error  \\\n",
              "0  Third year - Mat  0.907     0.822              0.821           1.937   \n",
              "1  Third year - Por  0.921     0.848              0.847           1.262   \n",
              "\n",
              "   F Statistic Sig. F Change  \n",
              "0      906.134       < 0.001  \n",
              "1     1798.671       < 0.001  "
            ]
          },
          "metadata": {},
          "output_type": "display_data"
        }
      ],
      "source": [
        "def generate_model_line(model_name, model):\n",
        "    r_squared = model.rsquared\n",
        "    adj_r_squared = model.rsquared_adj\n",
        "    r = r_squared**0.5\n",
        "    std_error = model.mse_resid**0.5\n",
        "    f_stat = model.fvalue\n",
        "    f_pvalue = model.f_pvalue\n",
        "\n",
        "    return {\n",
        "        \"Model\": model_name,\n",
        "        \"R\": round(r, 3),\n",
        "        \"R Square\": round(r_squared, 3),\n",
        "        \"Adjusted R Square\": round(adj_r_squared, 3),\n",
        "        \"Standard Error\": round(std_error, 3),\n",
        "        \"F Statistic\": round(f_stat, 3),\n",
        "        \"Sig. F Change\": f_pvalue if f_pvalue >= 0.001 else \"< 0.001\"\n",
        "    }\n",
        "\n",
        "lines = [\n",
        "    generate_model_line(\"Third year - Mat\", rl_mat_model),\n",
        "    generate_model_line(\"Third year - Por\", rl_por_model)\n",
        "]\n",
        "\n",
        "regression_table = pd.DataFrame(lines)\n",
        "display(regression_table)"
      ]
    },
    {
      "cell_type": "code",
      "execution_count": 213,
      "id": "d603820772bd2614",
      "metadata": {
        "ExecuteTime": {
          "end_time": "2025-05-23T01:49:12.176400Z",
          "start_time": "2025-05-23T01:49:12.173814Z"
        },
        "id": "d603820772bd2614"
      },
      "outputs": [],
      "source": [
        "intercept_rl_mat = rl_mat_model.params[\"const\"]\n",
        "beta1_rl_mat = rl_mat_model.params[\"G1\"]\n",
        "beta2_rl_mat = rl_mat_model.params[\"G2\"]\n",
        "\n",
        "intercept_rl_por = rl_por_model.params[\"const\"]\n",
        "beta1_rl_por = rl_por_model.params[\"G1\"]\n",
        "beta2_rl_por = rl_por_model.params[\"G2\"]"
      ]
    },
    {
      "cell_type": "markdown",
      "id": "e7ae8d3443e46ccc",
      "metadata": {
        "id": "e7ae8d3443e46ccc"
      },
      "source": [
        "## The regression equation"
      ]
    },
    {
      "cell_type": "code",
      "execution_count": 214,
      "id": "9514ad34deaa5393",
      "metadata": {
        "ExecuteTime": {
          "end_time": "2025-05-23T01:49:12.218922Z",
          "start_time": "2025-05-23T01:49:12.216579Z"
        },
        "colab": {
          "base_uri": "https://localhost:8080/"
        },
        "id": "9514ad34deaa5393",
        "outputId": "bfe897b3-40f0-4984-83c6-d03ef0506ca9"
      },
      "outputs": [
        {
          "name": "stdout",
          "output_type": "stream",
          "text": [
            "Regression Equation - Mat:\n",
            "Third year = -1.8 + [0.2 * (Fist year)] + [1.0 * (Second year)]\n"
          ]
        }
      ],
      "source": [
        "equation_mat = f\"Third year = {intercept_rl_mat:.1f} + [{beta1_rl_mat:.1f} * (Fist year)] + [{beta2_rl_mat:.1f} * (Second year)]\"\n",
        "print(\"Regression Equation - Mat:\")\n",
        "print(equation_mat)"
      ]
    },
    {
      "cell_type": "code",
      "execution_count": 215,
      "id": "42ad74d18503eb37",
      "metadata": {
        "ExecuteTime": {
          "end_time": "2025-05-23T01:49:12.242525Z",
          "start_time": "2025-05-23T01:49:12.239947Z"
        },
        "colab": {
          "base_uri": "https://localhost:8080/"
        },
        "id": "42ad74d18503eb37",
        "outputId": "90ce5b27-d5b8-4eb0-c497-232276626009"
      },
      "outputs": [
        {
          "name": "stdout",
          "output_type": "stream",
          "text": [
            "Regression Equation - Por:\n",
            "Third year = -0.2 + [0.1 * (First year)] + [0.9 * (Second year)]\n"
          ]
        }
      ],
      "source": [
        "equation_por = f\"Third year = {intercept_rl_por:.1f} + [{beta1_rl_por:.1f} * (First year)] + [{beta2_rl_por:.1f} * (Second year)]\"\n",
        "print(\"Regression Equation - Por:\")\n",
        "print(equation_por)"
      ]
    },
    {
      "cell_type": "markdown",
      "id": "921e24fbf2e72ad5",
      "metadata": {
        "id": "921e24fbf2e72ad5"
      },
      "source": [
        "## Comparing predicted and actual values"
      ]
    },
    {
      "cell_type": "code",
      "execution_count": 216,
      "id": "3c24fed0aa5a43f1",
      "metadata": {
        "ExecuteTime": {
          "end_time": "2025-05-23T01:49:12.277458Z",
          "start_time": "2025-05-23T01:49:12.271894Z"
        },
        "colab": {
          "base_uri": "https://localhost:8080/",
          "height": 206
        },
        "id": "3c24fed0aa5a43f1",
        "outputId": "3ce2e0b3-1583-487a-f0f5-0d921b45a17c"
      },
      "outputs": [
        {
          "data": {
            "text/html": [
              "<div>\n",
              "<style scoped>\n",
              "    .dataframe tbody tr th:only-of-type {\n",
              "        vertical-align: middle;\n",
              "    }\n",
              "\n",
              "    .dataframe tbody tr th {\n",
              "        vertical-align: top;\n",
              "    }\n",
              "\n",
              "    .dataframe thead th {\n",
              "        text-align: right;\n",
              "    }\n",
              "</style>\n",
              "<table border=\"1\" class=\"dataframe\">\n",
              "  <thead>\n",
              "    <tr style=\"text-align: right;\">\n",
              "      <th></th>\n",
              "      <th>G3</th>\n",
              "      <th>original_predicted_g3</th>\n",
              "      <th>original_absolute_error</th>\n",
              "    </tr>\n",
              "  </thead>\n",
              "  <tbody>\n",
              "    <tr>\n",
              "      <th>0</th>\n",
              "      <td>6</td>\n",
              "      <td>4.86</td>\n",
              "      <td>1.14</td>\n",
              "    </tr>\n",
              "    <tr>\n",
              "      <th>1</th>\n",
              "      <td>6</td>\n",
              "      <td>3.87</td>\n",
              "      <td>2.13</td>\n",
              "    </tr>\n",
              "    <tr>\n",
              "      <th>2</th>\n",
              "      <td>10</td>\n",
              "      <td>7.14</td>\n",
              "      <td>2.86</td>\n",
              "    </tr>\n",
              "    <tr>\n",
              "      <th>3</th>\n",
              "      <td>15</td>\n",
              "      <td>14.29</td>\n",
              "      <td>0.71</td>\n",
              "    </tr>\n",
              "    <tr>\n",
              "      <th>4</th>\n",
              "      <td>10</td>\n",
              "      <td>8.96</td>\n",
              "      <td>1.04</td>\n",
              "    </tr>\n",
              "  </tbody>\n",
              "</table>\n",
              "</div>"
            ],
            "text/plain": [
              "   G3  original_predicted_g3  original_absolute_error\n",
              "0   6                   4.86                     1.14\n",
              "1   6                   3.87                     2.13\n",
              "2  10                   7.14                     2.86\n",
              "3  15                  14.29                     0.71\n",
              "4  10                   8.96                     1.04"
            ]
          },
          "execution_count": 216,
          "metadata": {},
          "output_type": "execute_result"
        }
      ],
      "source": [
        "database_mat[\"original_predicted_g3\"] = (\n",
        "    intercept_g3_mat +\n",
        "    beta1_g3_mat * database_mat[\"G1\"] +\n",
        "    beta2_g3_mat * database_mat[\"G2\"]\n",
        ").round(2)\n",
        "\n",
        "database_mat[\"original_absolute_error\"] = (\n",
        "    database_mat[\"G3\"] - database_mat[\"original_predicted_g3\"]\n",
        ").abs().round(2)\n",
        "\n",
        "database_mat[[\"G3\", \"original_predicted_g3\", \"original_absolute_error\"]].head()"
      ]
    },
    {
      "cell_type": "code",
      "execution_count": 217,
      "id": "b806857aa6555c89",
      "metadata": {
        "ExecuteTime": {
          "end_time": "2025-05-23T01:49:12.330910Z",
          "start_time": "2025-05-23T01:49:12.323851Z"
        },
        "colab": {
          "base_uri": "https://localhost:8080/",
          "height": 206
        },
        "id": "b806857aa6555c89",
        "outputId": "749fb06e-f147-4c3a-a374-b4afc0167e77"
      },
      "outputs": [
        {
          "data": {
            "text/html": [
              "<div>\n",
              "<style scoped>\n",
              "    .dataframe tbody tr th:only-of-type {\n",
              "        vertical-align: middle;\n",
              "    }\n",
              "\n",
              "    .dataframe tbody tr th {\n",
              "        vertical-align: top;\n",
              "    }\n",
              "\n",
              "    .dataframe thead th {\n",
              "        text-align: right;\n",
              "    }\n",
              "</style>\n",
              "<table border=\"1\" class=\"dataframe\">\n",
              "  <thead>\n",
              "    <tr style=\"text-align: right;\">\n",
              "      <th></th>\n",
              "      <th>G3</th>\n",
              "      <th>original_predicted_g3</th>\n",
              "      <th>original_absolute_error</th>\n",
              "    </tr>\n",
              "  </thead>\n",
              "  <tbody>\n",
              "    <tr>\n",
              "      <th>0</th>\n",
              "      <td>11</td>\n",
              "      <td>9.70</td>\n",
              "      <td>1.30</td>\n",
              "    </tr>\n",
              "    <tr>\n",
              "      <th>1</th>\n",
              "      <td>11</td>\n",
              "      <td>11.04</td>\n",
              "      <td>0.04</td>\n",
              "    </tr>\n",
              "    <tr>\n",
              "      <th>2</th>\n",
              "      <td>12</td>\n",
              "      <td>13.28</td>\n",
              "      <td>1.28</td>\n",
              "    </tr>\n",
              "    <tr>\n",
              "      <th>3</th>\n",
              "      <td>14</td>\n",
              "      <td>14.47</td>\n",
              "      <td>0.47</td>\n",
              "    </tr>\n",
              "    <tr>\n",
              "      <th>4</th>\n",
              "      <td>13</td>\n",
              "      <td>13.13</td>\n",
              "      <td>0.13</td>\n",
              "    </tr>\n",
              "  </tbody>\n",
              "</table>\n",
              "</div>"
            ],
            "text/plain": [
              "   G3  original_predicted_g3  original_absolute_error\n",
              "0  11                   9.70                     1.30\n",
              "1  11                  11.04                     0.04\n",
              "2  12                  13.28                     1.28\n",
              "3  14                  14.47                     0.47\n",
              "4  13                  13.13                     0.13"
            ]
          },
          "execution_count": 217,
          "metadata": {},
          "output_type": "execute_result"
        }
      ],
      "source": [
        "database_por[\"original_predicted_g3\"] = (\n",
        "    intercept_g3_por +\n",
        "    beta1_g3_por * database_por[\"G1\"] +\n",
        "    beta2_g3_por * database_por[\"G2\"]\n",
        ").round(2)\n",
        "\n",
        "database_por[\"original_absolute_error\"] = (\n",
        "    database_por[\"G3\"] - database_por[\"original_predicted_g3\"]\n",
        ").abs().round(2)\n",
        "\n",
        "database_por[[\"G3\", \"original_predicted_g3\", \"original_absolute_error\"]].head()"
      ]
    },
    {
      "cell_type": "code",
      "execution_count": 218,
      "id": "9d17daa1c2612a13",
      "metadata": {
        "ExecuteTime": {
          "end_time": "2025-05-23T01:49:12.391512Z",
          "start_time": "2025-05-23T01:49:12.381822Z"
        },
        "colab": {
          "base_uri": "https://localhost:8080/",
          "height": 143
        },
        "id": "9d17daa1c2612a13",
        "outputId": "6440d2a4-ae56-4fd8-ff3a-d8db8a734cb2"
      },
      "outputs": [
        {
          "data": {
            "text/html": [
              "<div>\n",
              "<style scoped>\n",
              "    .dataframe tbody tr th:only-of-type {\n",
              "        vertical-align: middle;\n",
              "    }\n",
              "\n",
              "    .dataframe tbody tr th {\n",
              "        vertical-align: top;\n",
              "    }\n",
              "\n",
              "    .dataframe thead th {\n",
              "        text-align: right;\n",
              "    }\n",
              "</style>\n",
              "<table border=\"1\" class=\"dataframe\">\n",
              "  <thead>\n",
              "    <tr style=\"text-align: right;\">\n",
              "      <th></th>\n",
              "      <th>Variable</th>\n",
              "      <th>Mean</th>\n",
              "      <th>Standard Deviation</th>\n",
              "    </tr>\n",
              "  </thead>\n",
              "  <tbody>\n",
              "    <tr>\n",
              "      <th>0</th>\n",
              "      <td>G3 - Mat</td>\n",
              "      <td>10.415190</td>\n",
              "      <td>4.581443</td>\n",
              "    </tr>\n",
              "    <tr>\n",
              "      <th>1</th>\n",
              "      <td>Original predicted G3 - Mat</td>\n",
              "      <td>10.414861</td>\n",
              "      <td>4.155055</td>\n",
              "    </tr>\n",
              "    <tr>\n",
              "      <th>2</th>\n",
              "      <td>Original absolute error - Mat</td>\n",
              "      <td>1.137848</td>\n",
              "      <td>1.560100</td>\n",
              "    </tr>\n",
              "  </tbody>\n",
              "</table>\n",
              "</div>"
            ],
            "text/plain": [
              "                        Variable       Mean  Standard Deviation\n",
              "0                       G3 - Mat  10.415190            4.581443\n",
              "1    Original predicted G3 - Mat  10.414861            4.155055\n",
              "2  Original absolute error - Mat   1.137848            1.560100"
            ]
          },
          "metadata": {},
          "output_type": "display_data"
        }
      ],
      "source": [
        "variable_labels = {\n",
        "    \"G3\": \"G3 - Mat\",\n",
        "    \"original_predicted_g3\": \"Original predicted G3 - Mat\",\n",
        "    \"original_absolute_error\": \"Original absolute error - Mat\"\n",
        "}\n",
        "\n",
        "variables = list(variable_labels.keys())\n",
        "\n",
        "stats_mat = {\n",
        "    \"Variable\": [variable_labels[var] for var in variables],\n",
        "    \"Mean\": [database_mat[var].mean() for var in variables],\n",
        "    \"Standard Deviation\": [database_mat[var].std() for var in variables]\n",
        "}\n",
        "\n",
        "stats_table_mat = pd.DataFrame(stats_mat)\n",
        "\n",
        "display(stats_table_mat)"
      ]
    },
    {
      "cell_type": "code",
      "execution_count": 219,
      "id": "2643530b8ba81281",
      "metadata": {
        "ExecuteTime": {
          "end_time": "2025-05-23T01:49:12.486189Z",
          "start_time": "2025-05-23T01:49:12.480555Z"
        },
        "colab": {
          "base_uri": "https://localhost:8080/",
          "height": 143
        },
        "id": "2643530b8ba81281",
        "outputId": "f9eff9a8-5bdf-44b8-eccb-b70e44dc4178"
      },
      "outputs": [
        {
          "data": {
            "text/html": [
              "<div>\n",
              "<style scoped>\n",
              "    .dataframe tbody tr th:only-of-type {\n",
              "        vertical-align: middle;\n",
              "    }\n",
              "\n",
              "    .dataframe tbody tr th {\n",
              "        vertical-align: top;\n",
              "    }\n",
              "\n",
              "    .dataframe thead th {\n",
              "        text-align: right;\n",
              "    }\n",
              "</style>\n",
              "<table border=\"1\" class=\"dataframe\">\n",
              "  <thead>\n",
              "    <tr style=\"text-align: right;\">\n",
              "      <th></th>\n",
              "      <th>Variable</th>\n",
              "      <th>Mean</th>\n",
              "      <th>Standard Deviation</th>\n",
              "    </tr>\n",
              "  </thead>\n",
              "  <tbody>\n",
              "    <tr>\n",
              "      <th>0</th>\n",
              "      <td>G3 - Por</td>\n",
              "      <td>11.906009</td>\n",
              "      <td>3.230656</td>\n",
              "    </tr>\n",
              "    <tr>\n",
              "      <th>1</th>\n",
              "      <td>Original predicted G3 - Por</td>\n",
              "      <td>11.906210</td>\n",
              "      <td>2.974618</td>\n",
              "    </tr>\n",
              "    <tr>\n",
              "      <th>2</th>\n",
              "      <td>Original absolute error - Por</td>\n",
              "      <td>0.785285</td>\n",
              "      <td>0.985733</td>\n",
              "    </tr>\n",
              "  </tbody>\n",
              "</table>\n",
              "</div>"
            ],
            "text/plain": [
              "                        Variable       Mean  Standard Deviation\n",
              "0                       G3 - Por  11.906009            3.230656\n",
              "1    Original predicted G3 - Por  11.906210            2.974618\n",
              "2  Original absolute error - Por   0.785285            0.985733"
            ]
          },
          "metadata": {},
          "output_type": "display_data"
        }
      ],
      "source": [
        "variable_labels = {\n",
        "    \"G3\": \"G3 - Por\",\n",
        "    \"original_predicted_g3\": \"Original predicted G3 - Por\",\n",
        "    \"original_absolute_error\": \"Original absolute error - Por\"\n",
        "}\n",
        "\n",
        "variables = list(variable_labels.keys())\n",
        "\n",
        "stats_por = {\n",
        "    \"Variable\": [variable_labels[var] for var in variables],\n",
        "    \"Mean\": [database_por[var].mean() for var in variables],\n",
        "    \"Standard Deviation\": [database_por[var].std() for var in variables]\n",
        "}\n",
        "\n",
        "stats_table_por = pd.DataFrame(stats_por)\n",
        "\n",
        "display(stats_table_por)"
      ]
    },
    {
      "cell_type": "markdown",
      "id": "e576e846f5339533",
      "metadata": {
        "id": "e576e846f5339533"
      },
      "source": [
        "# Our change purpose"
      ]
    },
    {
      "cell_type": "markdown",
      "id": "51ddc92704fe4fe7",
      "metadata": {
        "id": "51ddc92704fe4fe7"
      },
      "source": [
        "## XGBoost Regressor"
      ]
    },
    {
      "cell_type": "code",
      "execution_count": 220,
      "id": "41b22c2100af58c7",
      "metadata": {
        "ExecuteTime": {
          "end_time": "2025-05-23T01:49:12.946466Z",
          "start_time": "2025-05-23T01:49:12.572281Z"
        },
        "id": "41b22c2100af58c7"
      },
      "outputs": [],
      "source": [
        "from xgboost import XGBRegressor\n",
        "import sklearn"
      ]
    },
    {
      "cell_type": "code",
      "execution_count": 221,
      "id": "5e3aedbd03cc6124",
      "metadata": {
        "ExecuteTime": {
          "end_time": "2025-05-23T01:49:12.966360Z",
          "start_time": "2025-05-23T01:49:12.963166Z"
        },
        "id": "5e3aedbd03cc6124"
      },
      "outputs": [],
      "source": [
        "xgb_model_mat = XGBRegressor()\n",
        "\n",
        "xgb_model_por = XGBRegressor()"
      ]
    },
    {
      "cell_type": "code",
      "execution_count": 222,
      "id": "95d2ca0a50e7430",
      "metadata": {
        "ExecuteTime": {
          "end_time": "2025-05-23T01:49:13.180033Z",
          "start_time": "2025-05-23T01:49:13.013668Z"
        },
        "id": "95d2ca0a50e7430"
      },
      "outputs": [],
      "source": [
        "from sklearn.model_selection import train_test_split\n",
        "\n",
        "X_mat = sm.add_constant(database_mat[[\"G1\", \"G2\"]])\n",
        "y_mat = database_mat['G3']\n",
        "\n",
        "xgb_model_mat.fit(X_mat, y_mat)\n",
        "\n",
        "X_mat_train, X_mat_test, y_mat_train, y_mat_test = train_test_split(X_mat, y_mat, test_size=0.2, random_state=42)\n",
        "\n",
        "y_mat_pred = xgb_model_mat.predict(X_mat_test)"
      ]
    },
    {
      "cell_type": "code",
      "execution_count": 223,
      "id": "f2002ef480ddcdfd",
      "metadata": {
        "ExecuteTime": {
          "end_time": "2025-05-23T01:49:13.363337Z",
          "start_time": "2025-05-23T01:49:13.187855Z"
        },
        "id": "f2002ef480ddcdfd"
      },
      "outputs": [],
      "source": [
        "X_por = sm.add_constant(database_por[[\"G1\", \"G2\"]])\n",
        "y_por = database_por['G3']\n",
        "\n",
        "xgb_model_por.fit(X_por, y_por)\n",
        "\n",
        "X_por_train, X_por_test, y_por_train, y_por_test = train_test_split(X_por, y_por, test_size=0.2, random_state=42)\n",
        "\n",
        "y_por_pred = xgb_model_por.predict(X_por_test)"
      ]
    },
    {
      "cell_type": "code",
      "execution_count": 224,
      "id": "4534ebad0b69a7b2",
      "metadata": {
        "ExecuteTime": {
          "end_time": "2025-05-23T01:49:13.416550Z",
          "start_time": "2025-05-23T01:49:13.399640Z"
        },
        "colab": {
          "base_uri": "https://localhost:8080/",
          "height": 206
        },
        "id": "4534ebad0b69a7b2",
        "outputId": "54e97fbf-86da-4691-f0d2-070be859f028"
      },
      "outputs": [
        {
          "data": {
            "text/html": [
              "<div>\n",
              "<style scoped>\n",
              "    .dataframe tbody tr th:only-of-type {\n",
              "        vertical-align: middle;\n",
              "    }\n",
              "\n",
              "    .dataframe tbody tr th {\n",
              "        vertical-align: top;\n",
              "    }\n",
              "\n",
              "    .dataframe thead th {\n",
              "        text-align: right;\n",
              "    }\n",
              "</style>\n",
              "<table border=\"1\" class=\"dataframe\">\n",
              "  <thead>\n",
              "    <tr style=\"text-align: right;\">\n",
              "      <th></th>\n",
              "      <th>G3</th>\n",
              "      <th>xgboost_predicted_g3</th>\n",
              "      <th>xgboost_absolute_error</th>\n",
              "    </tr>\n",
              "  </thead>\n",
              "  <tbody>\n",
              "    <tr>\n",
              "      <th>78</th>\n",
              "      <td>10</td>\n",
              "      <td>7.09</td>\n",
              "      <td>2.91</td>\n",
              "    </tr>\n",
              "    <tr>\n",
              "      <th>371</th>\n",
              "      <td>12</td>\n",
              "      <td>12.00</td>\n",
              "      <td>0.00</td>\n",
              "    </tr>\n",
              "    <tr>\n",
              "      <th>248</th>\n",
              "      <td>5</td>\n",
              "      <td>5.00</td>\n",
              "      <td>0.00</td>\n",
              "    </tr>\n",
              "    <tr>\n",
              "      <th>55</th>\n",
              "      <td>10</td>\n",
              "      <td>9.36</td>\n",
              "      <td>0.64</td>\n",
              "    </tr>\n",
              "    <tr>\n",
              "      <th>390</th>\n",
              "      <td>9</td>\n",
              "      <td>8.69</td>\n",
              "      <td>0.31</td>\n",
              "    </tr>\n",
              "  </tbody>\n",
              "</table>\n",
              "</div>"
            ],
            "text/plain": [
              "     G3  xgboost_predicted_g3  xgboost_absolute_error\n",
              "78   10                  7.09                    2.91\n",
              "371  12                 12.00                    0.00\n",
              "248   5                  5.00                    0.00\n",
              "55   10                  9.36                    0.64\n",
              "390   9                  8.69                    0.31"
            ]
          },
          "execution_count": 224,
          "metadata": {},
          "output_type": "execute_result"
        }
      ],
      "source": [
        "results_mat = X_mat_test.copy()\n",
        "results_mat[\"G3\"] = y_mat_test\n",
        "results_mat[\"original_predicted_g3\"] = (\n",
        "    intercept_g3_mat +\n",
        "    beta1_g3_mat * results_mat[\"G1\"] +\n",
        "    beta2_g3_mat * results_mat[\"G2\"]\n",
        ").round(2)\n",
        "results_mat[\"original_absolute_error\"] = (\n",
        "    results_mat[\"G3\"] - results_mat[\"original_predicted_g3\"]\n",
        ").abs().round(2)\n",
        "results_mat[\"xgboost_predicted_g3\"] = y_mat_pred.round(2)\n",
        "results_mat[\"xgboost_absolute_error\"] = (results_mat[\"G3\"] - results_mat[\"xgboost_predicted_g3\"]).abs().round(2)\n",
        "\n",
        "results_mat[[\"G3\", \"xgboost_predicted_g3\", \"xgboost_absolute_error\"]].head()"
      ]
    },
    {
      "cell_type": "code",
      "execution_count": 225,
      "id": "aecac44fe4a18202",
      "metadata": {
        "ExecuteTime": {
          "end_time": "2025-05-23T01:49:13.548243Z",
          "start_time": "2025-05-23T01:49:13.532724Z"
        },
        "colab": {
          "base_uri": "https://localhost:8080/",
          "height": 206
        },
        "id": "aecac44fe4a18202",
        "outputId": "12f8027b-0a05-47ed-86b6-b89030e58903"
      },
      "outputs": [
        {
          "data": {
            "text/html": [
              "<div>\n",
              "<style scoped>\n",
              "    .dataframe tbody tr th:only-of-type {\n",
              "        vertical-align: middle;\n",
              "    }\n",
              "\n",
              "    .dataframe tbody tr th {\n",
              "        vertical-align: top;\n",
              "    }\n",
              "\n",
              "    .dataframe thead th {\n",
              "        text-align: right;\n",
              "    }\n",
              "</style>\n",
              "<table border=\"1\" class=\"dataframe\">\n",
              "  <thead>\n",
              "    <tr style=\"text-align: right;\">\n",
              "      <th></th>\n",
              "      <th>G3</th>\n",
              "      <th>xgboost_predicted_g3</th>\n",
              "      <th>xgboost_absolute_error</th>\n",
              "    </tr>\n",
              "  </thead>\n",
              "  <tbody>\n",
              "    <tr>\n",
              "      <th>636</th>\n",
              "      <td>19</td>\n",
              "      <td>17.629999</td>\n",
              "      <td>1.37</td>\n",
              "    </tr>\n",
              "    <tr>\n",
              "      <th>220</th>\n",
              "      <td>12</td>\n",
              "      <td>11.390000</td>\n",
              "      <td>0.61</td>\n",
              "    </tr>\n",
              "    <tr>\n",
              "      <th>594</th>\n",
              "      <td>18</td>\n",
              "      <td>17.799999</td>\n",
              "      <td>0.20</td>\n",
              "    </tr>\n",
              "    <tr>\n",
              "      <th>429</th>\n",
              "      <td>11</td>\n",
              "      <td>11.190000</td>\n",
              "      <td>0.19</td>\n",
              "    </tr>\n",
              "    <tr>\n",
              "      <th>72</th>\n",
              "      <td>11</td>\n",
              "      <td>11.010000</td>\n",
              "      <td>0.01</td>\n",
              "    </tr>\n",
              "  </tbody>\n",
              "</table>\n",
              "</div>"
            ],
            "text/plain": [
              "     G3  xgboost_predicted_g3  xgboost_absolute_error\n",
              "636  19             17.629999                    1.37\n",
              "220  12             11.390000                    0.61\n",
              "594  18             17.799999                    0.20\n",
              "429  11             11.190000                    0.19\n",
              "72   11             11.010000                    0.01"
            ]
          },
          "execution_count": 225,
          "metadata": {},
          "output_type": "execute_result"
        }
      ],
      "source": [
        "results_por = X_por_test.copy()\n",
        "results_por[\"G3\"] = y_por_test\n",
        "results_por[\"original_predicted_g3\"] = (\n",
        "    intercept_g3_por +\n",
        "    beta1_g3_por * results_por[\"G1\"] +\n",
        "    beta2_g3_por * results_por[\"G2\"]\n",
        ").round(2)\n",
        "results_por[\"original_absolute_error\"] = (\n",
        "    results_por[\"G3\"] - results_por[\"original_predicted_g3\"]\n",
        ").abs().round(2)\n",
        "results_por[\"xgboost_predicted_g3\"] = y_por_pred.round(2)\n",
        "results_por[\"xgboost_absolute_error\"] = (results_por[\"G3\"] - results_por[\"xgboost_predicted_g3\"]).abs().round(2)\n",
        "\n",
        "results_por[[\"G3\", \"xgboost_predicted_g3\", \"xgboost_absolute_error\"]].head()"
      ]
    },
    {
      "cell_type": "code",
      "execution_count": 226,
      "id": "1e35abd666614502",
      "metadata": {
        "ExecuteTime": {
          "end_time": "2025-05-23T01:49:13.773036Z",
          "start_time": "2025-05-23T01:49:13.742219Z"
        },
        "colab": {
          "base_uri": "https://localhost:8080/",
          "height": 206
        },
        "id": "1e35abd666614502",
        "outputId": "dc81b4f0-41c9-4948-8045-cb19c208e3fd"
      },
      "outputs": [
        {
          "data": {
            "text/html": [
              "<div>\n",
              "<style scoped>\n",
              "    .dataframe tbody tr th:only-of-type {\n",
              "        vertical-align: middle;\n",
              "    }\n",
              "\n",
              "    .dataframe tbody tr th {\n",
              "        vertical-align: top;\n",
              "    }\n",
              "\n",
              "    .dataframe thead th {\n",
              "        text-align: right;\n",
              "    }\n",
              "</style>\n",
              "<table border=\"1\" class=\"dataframe\">\n",
              "  <thead>\n",
              "    <tr style=\"text-align: right;\">\n",
              "      <th></th>\n",
              "      <th>Variable</th>\n",
              "      <th>Mean</th>\n",
              "      <th>Standard Deviation</th>\n",
              "    </tr>\n",
              "  </thead>\n",
              "  <tbody>\n",
              "    <tr>\n",
              "      <th>0</th>\n",
              "      <td>G3 - Mat</td>\n",
              "      <td>10.772152</td>\n",
              "      <td>4.557185</td>\n",
              "    </tr>\n",
              "    <tr>\n",
              "      <th>1</th>\n",
              "      <td>Original predicted G3 - Mat</td>\n",
              "      <td>10.644810</td>\n",
              "      <td>4.283469</td>\n",
              "    </tr>\n",
              "    <tr>\n",
              "      <th>2</th>\n",
              "      <td>Original absolute error - Mat</td>\n",
              "      <td>1.233671</td>\n",
              "      <td>1.639830</td>\n",
              "    </tr>\n",
              "    <tr>\n",
              "      <th>3</th>\n",
              "      <td>XGBoost predicted G3 - Mat</td>\n",
              "      <td>10.637848</td>\n",
              "      <td>4.367468</td>\n",
              "    </tr>\n",
              "    <tr>\n",
              "      <th>4</th>\n",
              "      <td>XGBoost absolute error - Mat</td>\n",
              "      <td>1.060380</td>\n",
              "      <td>1.456577</td>\n",
              "    </tr>\n",
              "  </tbody>\n",
              "</table>\n",
              "</div>"
            ],
            "text/plain": [
              "                        Variable       Mean  Standard Deviation\n",
              "0                       G3 - Mat  10.772152            4.557185\n",
              "1    Original predicted G3 - Mat  10.644810            4.283469\n",
              "2  Original absolute error - Mat   1.233671            1.639830\n",
              "3     XGBoost predicted G3 - Mat  10.637848            4.367468\n",
              "4   XGBoost absolute error - Mat   1.060380            1.456577"
            ]
          },
          "metadata": {},
          "output_type": "display_data"
        }
      ],
      "source": [
        "variable_labels = {\n",
        "    \"G3\": \"G3 - Mat\",\n",
        "    \"original_predicted_g3\": \"Original predicted G3 - Mat\",\n",
        "    \"original_absolute_error\": \"Original absolute error - Mat\",\n",
        "    \"xgboost_predicted_g3\": \"XGBoost predicted G3 - Mat\",\n",
        "    \"xgboost_absolute_error\": \"XGBoost absolute error - Mat\"\n",
        "}\n",
        "\n",
        "variables = list(variable_labels.keys())\n",
        "\n",
        "stats_mat = {\n",
        "    \"Variable\": [variable_labels[var] for var in variables],\n",
        "    \"Mean\": [results_mat[var].mean() for var in variables],\n",
        "    \"Standard Deviation\": [results_mat[var].std() for var in variables]\n",
        "}\n",
        "\n",
        "stats_table_mat = pd.DataFrame(stats_mat)\n",
        "\n",
        "display(stats_table_mat)"
      ]
    },
    {
      "cell_type": "code",
      "execution_count": 227,
      "id": "f195a06c40163e3c",
      "metadata": {
        "ExecuteTime": {
          "end_time": "2025-05-23T01:49:14.071631Z",
          "start_time": "2025-05-23T01:49:14.045278Z"
        },
        "colab": {
          "base_uri": "https://localhost:8080/",
          "height": 206
        },
        "id": "f195a06c40163e3c",
        "outputId": "0f7a2ed4-5180-4269-88e5-062afe54cc19"
      },
      "outputs": [
        {
          "data": {
            "text/html": [
              "<div>\n",
              "<style scoped>\n",
              "    .dataframe tbody tr th:only-of-type {\n",
              "        vertical-align: middle;\n",
              "    }\n",
              "\n",
              "    .dataframe tbody tr th {\n",
              "        vertical-align: top;\n",
              "    }\n",
              "\n",
              "    .dataframe thead th {\n",
              "        text-align: right;\n",
              "    }\n",
              "</style>\n",
              "<table border=\"1\" class=\"dataframe\">\n",
              "  <thead>\n",
              "    <tr style=\"text-align: right;\">\n",
              "      <th></th>\n",
              "      <th>Variable</th>\n",
              "      <th>Mean</th>\n",
              "      <th>Standard Deviation</th>\n",
              "    </tr>\n",
              "  </thead>\n",
              "  <tbody>\n",
              "    <tr>\n",
              "      <th>0</th>\n",
              "      <td>G3 - Por</td>\n",
              "      <td>12.353846</td>\n",
              "      <td>3.134854</td>\n",
              "    </tr>\n",
              "    <tr>\n",
              "      <th>1</th>\n",
              "      <td>Original predicted G3 - Por</td>\n",
              "      <td>12.395308</td>\n",
              "      <td>3.104232</td>\n",
              "    </tr>\n",
              "    <tr>\n",
              "      <th>2</th>\n",
              "      <td>Original absolute error - Por</td>\n",
              "      <td>0.718231</td>\n",
              "      <td>0.898882</td>\n",
              "    </tr>\n",
              "    <tr>\n",
              "      <th>3</th>\n",
              "      <td>XGBoost predicted G3 - Por</td>\n",
              "      <td>12.374847</td>\n",
              "      <td>2.984588</td>\n",
              "    </tr>\n",
              "    <tr>\n",
              "      <th>4</th>\n",
              "      <td>XGBoost absolute error - Por</td>\n",
              "      <td>0.655923</td>\n",
              "      <td>0.904929</td>\n",
              "    </tr>\n",
              "  </tbody>\n",
              "</table>\n",
              "</div>"
            ],
            "text/plain": [
              "                        Variable       Mean  Standard Deviation\n",
              "0                       G3 - Por  12.353846            3.134854\n",
              "1    Original predicted G3 - Por  12.395308            3.104232\n",
              "2  Original absolute error - Por   0.718231            0.898882\n",
              "3     XGBoost predicted G3 - Por  12.374847            2.984588\n",
              "4   XGBoost absolute error - Por   0.655923            0.904929"
            ]
          },
          "metadata": {},
          "output_type": "display_data"
        }
      ],
      "source": [
        "variable_labels = {\n",
        "    \"G3\": \"G3 - Por\",\n",
        "    \"original_predicted_g3\": \"Original predicted G3 - Por\",\n",
        "    \"original_absolute_error\": \"Original absolute error - Por\",\n",
        "    \"xgboost_predicted_g3\": \"XGBoost predicted G3 - Por\",\n",
        "    \"xgboost_absolute_error\": \"XGBoost absolute error - Por\"\n",
        "}\n",
        "\n",
        "variables = list(variable_labels.keys())\n",
        "\n",
        "stats_por = {\n",
        "    \"Variable\": [variable_labels[var] for var in variables],\n",
        "    \"Mean\": [results_por[var].mean() for var in variables],\n",
        "    \"Standard Deviation\": [results_por[var].std() for var in variables]\n",
        "}\n",
        "\n",
        "stats_table_por = pd.DataFrame(stats_por)\n",
        "\n",
        "display(stats_table_por)"
      ]
    },
    {
      "cell_type": "code",
      "execution_count": 234,
      "id": "b86fcaf3",
      "metadata": {},
      "outputs": [
        {
          "data": {
            "text/html": [
              "<div>\n",
              "<style scoped>\n",
              "    .dataframe tbody tr th:only-of-type {\n",
              "        vertical-align: middle;\n",
              "    }\n",
              "\n",
              "    .dataframe tbody tr th {\n",
              "        vertical-align: top;\n",
              "    }\n",
              "\n",
              "    .dataframe thead th {\n",
              "        text-align: right;\n",
              "    }\n",
              "</style>\n",
              "<table border=\"1\" class=\"dataframe\">\n",
              "  <thead>\n",
              "    <tr style=\"text-align: right;\">\n",
              "      <th></th>\n",
              "      <th>Model</th>\n",
              "      <th>R</th>\n",
              "      <th>R Square</th>\n",
              "      <th>Adjusted R Square</th>\n",
              "      <th>Standard Error</th>\n",
              "      <th>F Statistic</th>\n",
              "      <th>Sig. F Change</th>\n",
              "    </tr>\n",
              "  </thead>\n",
              "  <tbody>\n",
              "    <tr>\n",
              "      <th>0</th>\n",
              "      <td>XGBoost - Matemática</td>\n",
              "      <td>0.918</td>\n",
              "      <td>0.843</td>\n",
              "      <td>0.837</td>\n",
              "      <td>1.794</td>\n",
              "      <td>NaN</td>\n",
              "      <td>NaN</td>\n",
              "    </tr>\n",
              "    <tr>\n",
              "      <th>1</th>\n",
              "      <td>XGBoost - Português</td>\n",
              "      <td>0.934</td>\n",
              "      <td>0.872</td>\n",
              "      <td>0.869</td>\n",
              "      <td>1.115</td>\n",
              "      <td>NaN</td>\n",
              "      <td>NaN</td>\n",
              "    </tr>\n",
              "    <tr>\n",
              "      <th>2</th>\n",
              "      <td>Linear - Matemática</td>\n",
              "      <td>0.907</td>\n",
              "      <td>0.822</td>\n",
              "      <td>0.821</td>\n",
              "      <td>1.937</td>\n",
              "      <td>906.134</td>\n",
              "      <td>&lt; 0.001</td>\n",
              "    </tr>\n",
              "    <tr>\n",
              "      <th>3</th>\n",
              "      <td>Linear - Português</td>\n",
              "      <td>0.921</td>\n",
              "      <td>0.848</td>\n",
              "      <td>0.847</td>\n",
              "      <td>1.262</td>\n",
              "      <td>1798.671</td>\n",
              "      <td>&lt; 0.001</td>\n",
              "    </tr>\n",
              "  </tbody>\n",
              "</table>\n",
              "</div>"
            ],
            "text/plain": [
              "                  Model      R  R Square  Adjusted R Square  Standard Error  \\\n",
              "0  XGBoost - Matemática  0.918     0.843              0.837           1.794   \n",
              "1   XGBoost - Português  0.934     0.872              0.869           1.115   \n",
              "2   Linear - Matemática  0.907     0.822              0.821           1.937   \n",
              "3    Linear - Português  0.921     0.848              0.847           1.262   \n",
              "\n",
              "   F Statistic Sig. F Change  \n",
              "0          NaN           NaN  \n",
              "1          NaN           NaN  \n",
              "2      906.134       < 0.001  \n",
              "3     1798.671       < 0.001  "
            ]
          },
          "metadata": {},
          "output_type": "display_data"
        }
      ],
      "source": [
        "def generate_model_line(model_name, model):\n",
        "    r_squared = model.rsquared\n",
        "    adj_r_squared = model.rsquared_adj\n",
        "    r = r_squared**0.5\n",
        "    std_error = model.mse_resid**0.5\n",
        "    f_stat = model.fvalue\n",
        "    f_pvalue = model.f_pvalue\n",
        "\n",
        "    return {\n",
        "        \"Model\": model_name,\n",
        "        \"R\": round(r, 3),\n",
        "        \"R Square\": round(r_squared, 3),\n",
        "        \"Adjusted R Square\": round(adj_r_squared, 3),\n",
        "        \"Standard Error\": round(std_error, 3),\n",
        "        \"F Statistic\": round(f_stat, 3),\n",
        "        \"Sig. F Change\": f_pvalue if f_pvalue >= 0.001 else \"< 0.001\"\n",
        "    }\n",
        "\n",
        "def generate_model_line_XGB(model_name, model, X_test, y_test):\n",
        "    y_pred = model.predict(X_test)\n",
        "\n",
        "    r_squared = r2_score(y_test, y_pred)\n",
        "\n",
        "    n = X_test.shape[0]\n",
        "    p = X_test.shape[1]\n",
        "    adj_r_squared = 1 - (1 - r_squared) * (n - 1) / (n - p - 1)\n",
        "\n",
        "    mse_resid = mean_squared_error(y_test, y_pred)\n",
        "    std_error = np.sqrt(mse_resid)\n",
        "\n",
        "    return {\n",
        "        \"Model\": model_name,\n",
        "        \"R\": round(np.sqrt(r_squared), 3),\n",
        "        \"R Square\": round(r_squared, 3),\n",
        "        \"Adjusted R Square\": round(adj_r_squared, 3),\n",
        "        \"Standard Error\": round(std_error, 3),\n",
        "    }\n",
        "\n",
        "lines = [\n",
        "    generate_model_line_XGB(\"XGBoost - Matemática\", xgb_model_mat, X_mat_test, y_mat_test),\n",
        "    generate_model_line_XGB(\"XGBoost - Português\", xgb_model_por, X_por_test, y_por_test),\n",
        "    generate_model_line(\"Linear - Matemática\", rl_mat_model),\n",
        "    generate_model_line(\"Linear - Português\", rl_por_model)\n",
        "]\n",
        "\n",
        "regression_table = pd.DataFrame(lines)\n",
        "display(regression_table)\n"
      ]
    }
  ],
  "metadata": {
    "colab": {
      "include_colab_link": true,
      "provenance": []
    },
    "kernelspec": {
      "display_name": "Python 3",
      "language": "python",
      "name": "python3"
    },
    "language_info": {
      "codemirror_mode": {
        "name": "ipython",
        "version": 3
      },
      "file_extension": ".py",
      "mimetype": "text/x-python",
      "name": "python",
      "nbconvert_exporter": "python",
      "pygments_lexer": "ipython3",
      "version": "3.13.3"
    }
  },
  "nbformat": 4,
  "nbformat_minor": 5
}
